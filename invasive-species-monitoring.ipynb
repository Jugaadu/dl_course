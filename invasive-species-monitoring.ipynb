{
 "cells": [
  {
   "cell_type": "markdown",
   "metadata": {},
   "source": [
    "first of all make the file structure in order to apply keras deeplearning"
   ]
  },
  {
   "cell_type": "code",
   "execution_count": 1,
   "metadata": {
    "collapsed": true
   },
   "outputs": [],
   "source": [
    "%mkdir ../data/invasive-species/train/hydrangea\n",
    "%mkdir ../data/invasive-species/train/nonhydrangea"
   ]
  },
  {
   "cell_type": "code",
   "execution_count": 2,
   "metadata": {
    "collapsed": true
   },
   "outputs": [],
   "source": [
    "# make validation folders\n",
    "%mkdir ../data/invasive-species/valid\n",
    "%mkdir ../data/invasive-species/valid/hydrangea\n",
    "%mkdir ../data/invasive-species/valid/nonhydrangea"
   ]
  },
  {
   "cell_type": "code",
   "execution_count": 3,
   "metadata": {
    "collapsed": true
   },
   "outputs": [],
   "source": [
    "#make folders for sample\n",
    "%mkdir ../data/invasive-species/sample\n",
    "%mkdir ../data/invasive-species/sample/train\n",
    "%mkdir ../data/invasive-species/sample/train/hydrangea\n",
    "%mkdir ../data/invasive-species/sample/train/nonhydrangea\n",
    "%mkdir ../data/invasive-species/sample/valid\n",
    "%mkdir ../data/invasive-species/sample/valid/hydrangea\n",
    "%mkdir ../data/invasive-species/sample/valid/nonhydrangea"
   ]
  },
  {
   "cell_type": "code",
   "execution_count": 5,
   "metadata": {
    "collapsed": true
   },
   "outputs": [],
   "source": [
    "%mkdir ../data/invasive-species/test/unknown"
   ]
  },
  {
   "cell_type": "code",
   "execution_count": 6,
   "metadata": {
    "collapsed": false
   },
   "outputs": [
    {
     "name": "stdout",
     "output_type": "stream",
     "text": [
      "\u001b[01;34m../data/invasive-species/\u001b[00m\r\n",
      "|-- \u001b[01;34msample\u001b[00m\r\n",
      "|   |-- \u001b[01;34mtrain\u001b[00m\r\n",
      "|   |   |-- \u001b[01;34mhydrangea\u001b[00m\r\n",
      "|   |   `-- \u001b[01;34mnonhydrangea\u001b[00m\r\n",
      "|   `-- \u001b[01;34mvalid\u001b[00m\r\n",
      "|       |-- \u001b[01;34mhydrangea\u001b[00m\r\n",
      "|       `-- \u001b[01;34mnonhydrangea\u001b[00m\r\n",
      "|-- \u001b[01;34mtest\u001b[00m\r\n",
      "|   `-- \u001b[01;34munknown\u001b[00m\r\n",
      "|-- \u001b[01;34mtrain\u001b[00m\r\n",
      "|   |-- \u001b[01;34mhydrangea\u001b[00m\r\n",
      "|   `-- \u001b[01;34mnonhydrangea\u001b[00m\r\n",
      "`-- \u001b[01;34mvalid\u001b[00m\r\n",
      "    |-- \u001b[01;34mhydrangea\u001b[00m\r\n",
      "    `-- \u001b[01;34mnonhydrangea\u001b[00m\r\n",
      "\r\n",
      "15 directories\r\n"
     ]
    }
   ],
   "source": [
    "!tree -d ../data/invasive-species/"
   ]
  },
  {
   "cell_type": "code",
   "execution_count": 7,
   "metadata": {
    "collapsed": true
   },
   "outputs": [],
   "source": [
    "import pandas as pd"
   ]
  },
  {
   "cell_type": "code",
   "execution_count": 11,
   "metadata": {
    "collapsed": true
   },
   "outputs": [],
   "source": [
    "lab = pd.read_csv('../data/invasive-species/train_labels.csv')"
   ]
  },
  {
   "cell_type": "code",
   "execution_count": 12,
   "metadata": {
    "collapsed": false
   },
   "outputs": [
    {
     "data": {
      "text/html": [
       "<div>\n",
       "<table border=\"1\" class=\"dataframe\">\n",
       "  <thead>\n",
       "    <tr style=\"text-align: right;\">\n",
       "      <th></th>\n",
       "      <th>name</th>\n",
       "      <th>invasive</th>\n",
       "    </tr>\n",
       "  </thead>\n",
       "  <tbody>\n",
       "    <tr>\n",
       "      <th>0</th>\n",
       "      <td>1</td>\n",
       "      <td>0</td>\n",
       "    </tr>\n",
       "    <tr>\n",
       "      <th>1</th>\n",
       "      <td>2</td>\n",
       "      <td>0</td>\n",
       "    </tr>\n",
       "    <tr>\n",
       "      <th>2</th>\n",
       "      <td>3</td>\n",
       "      <td>1</td>\n",
       "    </tr>\n",
       "    <tr>\n",
       "      <th>3</th>\n",
       "      <td>4</td>\n",
       "      <td>0</td>\n",
       "    </tr>\n",
       "    <tr>\n",
       "      <th>4</th>\n",
       "      <td>5</td>\n",
       "      <td>1</td>\n",
       "    </tr>\n",
       "  </tbody>\n",
       "</table>\n",
       "</div>"
      ],
      "text/plain": [
       "   name  invasive\n",
       "0     1         0\n",
       "1     2         0\n",
       "2     3         1\n",
       "3     4         0\n",
       "4     5         1"
      ]
     },
     "execution_count": 12,
     "metadata": {},
     "output_type": "execute_result"
    }
   ],
   "source": [
    "lab.head()"
   ]
  },
  {
   "cell_type": "code",
   "execution_count": 17,
   "metadata": {
    "collapsed": true
   },
   "outputs": [],
   "source": [
    "def makefilename(x):\n",
    "    return str(x)+'.jpg'"
   ]
  },
  {
   "cell_type": "code",
   "execution_count": 18,
   "metadata": {
    "collapsed": false
   },
   "outputs": [],
   "source": [
    "lab['fname'] = lab.name.apply(makefilename)"
   ]
  },
  {
   "cell_type": "code",
   "execution_count": 21,
   "metadata": {
    "collapsed": false
   },
   "outputs": [
    {
     "data": {
      "text/html": [
       "<div>\n",
       "<table border=\"1\" class=\"dataframe\">\n",
       "  <thead>\n",
       "    <tr style=\"text-align: right;\">\n",
       "      <th></th>\n",
       "      <th>name</th>\n",
       "      <th>invasive</th>\n",
       "      <th>fname</th>\n",
       "    </tr>\n",
       "  </thead>\n",
       "  <tbody>\n",
       "    <tr>\n",
       "      <th>0</th>\n",
       "      <td>1</td>\n",
       "      <td>0</td>\n",
       "      <td>1.jpg</td>\n",
       "    </tr>\n",
       "    <tr>\n",
       "      <th>1</th>\n",
       "      <td>2</td>\n",
       "      <td>0</td>\n",
       "      <td>2.jpg</td>\n",
       "    </tr>\n",
       "    <tr>\n",
       "      <th>2</th>\n",
       "      <td>3</td>\n",
       "      <td>1</td>\n",
       "      <td>3.jpg</td>\n",
       "    </tr>\n",
       "    <tr>\n",
       "      <th>3</th>\n",
       "      <td>4</td>\n",
       "      <td>0</td>\n",
       "      <td>4.jpg</td>\n",
       "    </tr>\n",
       "    <tr>\n",
       "      <th>4</th>\n",
       "      <td>5</td>\n",
       "      <td>1</td>\n",
       "      <td>5.jpg</td>\n",
       "    </tr>\n",
       "  </tbody>\n",
       "</table>\n",
       "</div>"
      ],
      "text/plain": [
       "   name  invasive  fname\n",
       "0     1         0  1.jpg\n",
       "1     2         0  2.jpg\n",
       "2     3         1  3.jpg\n",
       "3     4         0  4.jpg\n",
       "4     5         1  5.jpg"
      ]
     },
     "execution_count": 21,
     "metadata": {},
     "output_type": "execute_result"
    }
   ],
   "source": [
    "lab.head()"
   ]
  },
  {
   "cell_type": "code",
   "execution_count": 23,
   "metadata": {
    "collapsed": false
   },
   "outputs": [],
   "source": [
    "invasive = lab.loc[lab['invasive']>0,['fname']]"
   ]
  },
  {
   "cell_type": "code",
   "execution_count": 28,
   "metadata": {
    "collapsed": false
   },
   "outputs": [],
   "source": [
    "invasive_file = list(invasive.fname)"
   ]
  },
  {
   "cell_type": "code",
   "execution_count": 29,
   "metadata": {
    "collapsed": true
   },
   "outputs": [],
   "source": [
    "noninvasive = lab.loc[lab['invasive']==0,['fname']]"
   ]
  },
  {
   "cell_type": "code",
   "execution_count": 30,
   "metadata": {
    "collapsed": true
   },
   "outputs": [],
   "source": [
    "noninvasive_file = list(noninvasive.fname)"
   ]
  },
  {
   "cell_type": "code",
   "execution_count": 33,
   "metadata": {
    "collapsed": true
   },
   "outputs": [],
   "source": [
    "from glob import glob\n",
    "import os"
   ]
  },
  {
   "cell_type": "code",
   "execution_count": 32,
   "metadata": {
    "collapsed": true
   },
   "outputs": [],
   "source": [
    "from random import shuffle\n",
    "import shutil"
   ]
  },
  {
   "cell_type": "code",
   "execution_count": 34,
   "metadata": {
    "collapsed": true
   },
   "outputs": [],
   "source": [
    "#move invasive to invasive and noninvasive to noninvasive\n",
    "from_path = '../data/invasive-species/train/'\n",
    "to_path = '../data/invasive-species/train/hydrangea/'\n",
    "for f in invasive_file:\n",
    "    shutil.move(from_path+f,to_path)"
   ]
  },
  {
   "cell_type": "code",
   "execution_count": 35,
   "metadata": {
    "collapsed": true
   },
   "outputs": [],
   "source": [
    "#move invasive to invasive and noninvasive to noninvasive\n",
    "from_path = '../data/invasive-species/train/'\n",
    "to_path = '../data/invasive-species/train/nonhydrangea/'\n",
    "for f in noninvasive_file:\n",
    "    shutil.move(from_path+f,to_path)"
   ]
  },
  {
   "cell_type": "code",
   "execution_count": 36,
   "metadata": {
    "collapsed": true
   },
   "outputs": [],
   "source": [
    "# now make 80:20 split and move it to validation sample\n",
    "# lets make a function to take care of the repeatative work\n",
    "def move_file(from_path,to_path,percent):\n",
    "    all_data = glob(os.path.join(from_path,'*.*'))\n",
    "    shuffle(all_data)\n",
    "    split_point = int(len(all_data)*percent)\n",
    "    #train_data = all_data[:split_point]\n",
    "    split_data = all_data[split_point:]\n",
    "\n",
    "\n",
    "    for f in split_data:\n",
    "        shutil.move(f,to_path)"
   ]
  },
  {
   "cell_type": "code",
   "execution_count": 37,
   "metadata": {
    "collapsed": true
   },
   "outputs": [],
   "source": [
    "from_path ='../data/invasive-species/train/hydrangea/'\n",
    "to_path = '../data/invasive-species/valid/hydrangea/'\n",
    "move_file(from_path,to_path,.8)"
   ]
  },
  {
   "cell_type": "code",
   "execution_count": 38,
   "metadata": {
    "collapsed": true
   },
   "outputs": [],
   "source": [
    "from_path ='../data/invasive-species/train/nonhydrangea/'\n",
    "to_path = '../data/invasive-species/valid/nonhydrangea/'\n",
    "move_file(from_path,to_path,.8)"
   ]
  },
  {
   "cell_type": "code",
   "execution_count": 39,
   "metadata": {
    "collapsed": true
   },
   "outputs": [],
   "source": [
    "# lets make a function to take care of the repeatative work\n",
    "def copy_file(from_path,to_path,percent):\n",
    "    all_data = glob(os.path.join(from_path,'*.*'))\n",
    "    shuffle(all_data)\n",
    "    split_point = int(len(all_data)*percent)\n",
    "    #train_data = all_data[:split_point]\n",
    "    split_data = all_data[split_point:]\n",
    "    #now copy these files to the dogs folder in validation set\n",
    "\n",
    "    for f in split_data:\n",
    "        shutil.copy(f,to_path)"
   ]
  },
  {
   "cell_type": "code",
   "execution_count": 40,
   "metadata": {
    "collapsed": true
   },
   "outputs": [],
   "source": [
    "from_path ='../data/invasive-species/train/nonhydrangea/'\n",
    "to_path = '../data/invasive-species/sample/train/nonhydrangea/'\n",
    "move_file(from_path,to_path,.9)\n",
    "\n",
    "from_path ='../data/invasive-species/train/hydrangea/'\n",
    "to_path = '../data/invasive-species/sample/train/hydrangea/'\n",
    "move_file(from_path,to_path,.9)"
   ]
  },
  {
   "cell_type": "code",
   "execution_count": 41,
   "metadata": {
    "collapsed": true
   },
   "outputs": [],
   "source": [
    "from_path ='../data/invasive-species/valid/nonhydrangea/'\n",
    "to_path = '../data/invasive-species/sample/valid/nonhydrangea/'\n",
    "move_file(from_path,to_path,.9)\n",
    "\n",
    "from_path ='../data/invasive-species/valid/hydrangea/'\n",
    "to_path = '../data/invasive-species/sample/valid/hydrangea/'\n",
    "move_file(from_path,to_path,.9)"
   ]
  },
  {
   "cell_type": "code",
   "execution_count": 42,
   "metadata": {
    "collapsed": false
   },
   "outputs": [
    {
     "name": "stdout",
     "output_type": "stream",
     "text": [
      "1042\r\n"
     ]
    }
   ],
   "source": [
    "ls ../data/invasive-species/train/hydrangea/|wc -l"
   ]
  },
  {
   "cell_type": "code",
   "execution_count": 43,
   "metadata": {
    "collapsed": false
   },
   "outputs": [
    {
     "name": "stdout",
     "output_type": "stream",
     "text": [
      "609\r\n"
     ]
    }
   ],
   "source": [
    "ls ../data/invasive-species/train/nonhydrangea/|wc -l"
   ]
  },
  {
   "cell_type": "code",
   "execution_count": 44,
   "metadata": {
    "collapsed": false
   },
   "outputs": [
    {
     "name": "stdout",
     "output_type": "stream",
     "text": [
      "261\r\n"
     ]
    }
   ],
   "source": [
    "ls ../data/invasive-species/valid/hydrangea/|wc -l"
   ]
  },
  {
   "cell_type": "code",
   "execution_count": 45,
   "metadata": {
    "collapsed": false
   },
   "outputs": [
    {
     "name": "stdout",
     "output_type": "stream",
     "text": [
      "153\r\n"
     ]
    }
   ],
   "source": [
    "ls ../data/invasive-species/valid/nonhydrangea/|wc -l"
   ]
  },
  {
   "cell_type": "code",
   "execution_count": 46,
   "metadata": {
    "collapsed": false
   },
   "outputs": [
    {
     "name": "stdout",
     "output_type": "stream",
     "text": [
      "\u001b[01;34m../data/invasive-species\u001b[00m\r\n",
      "|-- \u001b[01;34msample\u001b[00m\r\n",
      "|   |-- \u001b[01;34mtrain\u001b[00m\r\n",
      "|   |   |-- \u001b[01;34mhydrangea\u001b[00m\r\n",
      "|   |   `-- \u001b[01;34mnonhydrangea\u001b[00m\r\n",
      "|   `-- \u001b[01;34mvalid\u001b[00m\r\n",
      "|       |-- \u001b[01;34mhydrangea\u001b[00m\r\n",
      "|       `-- \u001b[01;34mnonhydrangea\u001b[00m\r\n",
      "|-- \u001b[01;34mtest\u001b[00m\r\n",
      "|   `-- \u001b[01;34munknown\u001b[00m\r\n",
      "|-- \u001b[01;34mtrain\u001b[00m\r\n",
      "|   |-- \u001b[01;34mhydrangea\u001b[00m\r\n",
      "|   `-- \u001b[01;34mnonhydrangea\u001b[00m\r\n",
      "`-- \u001b[01;34mvalid\u001b[00m\r\n",
      "    |-- \u001b[01;34mhydrangea\u001b[00m\r\n",
      "    `-- \u001b[01;34mnonhydrangea\u001b[00m\r\n",
      "\r\n",
      "15 directories\r\n"
     ]
    }
   ],
   "source": [
    "!tree -d ../data/invasive-species"
   ]
  },
  {
   "cell_type": "markdown",
   "metadata": {},
   "source": [
    "# Use a pretrained model and make prediction"
   ]
  },
  {
   "cell_type": "code",
   "execution_count": 52,
   "metadata": {
    "collapsed": true
   },
   "outputs": [],
   "source": [
    "#path = \"../data/invasive-species/\"\n",
    "path = \"../data/invasive-species/sample/\""
   ]
  },
  {
   "cell_type": "markdown",
   "metadata": {},
   "source": [
    "## Initially working with sample dataset inorder to check the code and make a quick submission"
   ]
  },
  {
   "cell_type": "code",
   "execution_count": 48,
   "metadata": {
    "collapsed": false
   },
   "outputs": [
    {
     "name": "stderr",
     "output_type": "stream",
     "text": [
      "Using gpu device 0: Tesla K80 (CNMeM is disabled, cuDNN 5103)\n",
      "/home/ubuntu/anaconda2/lib/python2.7/site-packages/theano/sandbox/cuda/__init__.py:600: UserWarning: Your cuDNN version is more recent than the one Theano officially supports. If you see any problems, try updating Theano or downgrading cuDNN to version 5.\n",
      "  warnings.warn(warn)\n",
      "Using Theano backend.\n"
     ]
    }
   ],
   "source": [
    "%matplotlib inline\n",
    "from __future__ import division,print_function\n",
    "\n",
    "import os, json\n",
    "from glob import glob\n",
    "import numpy as np\n",
    "np.set_printoptions(precision=4, linewidth=100)\n",
    "from matplotlib import pyplot as plt\n",
    "import utils; reload(utils)\n",
    "from utils import plots"
   ]
  },
  {
   "cell_type": "code",
   "execution_count": 49,
   "metadata": {
    "collapsed": true
   },
   "outputs": [],
   "source": [
    "batch_size = 64"
   ]
  },
  {
   "cell_type": "code",
   "execution_count": 50,
   "metadata": {
    "collapsed": true
   },
   "outputs": [],
   "source": [
    "# Import our class, and instantiate\n",
    "import vgg16; reload(vgg16)\n",
    "from vgg16 import Vgg16"
   ]
  },
  {
   "cell_type": "code",
   "execution_count": 53,
   "metadata": {
    "collapsed": false
   },
   "outputs": [
    {
     "name": "stdout",
     "output_type": "stream",
     "text": [
      "Found 184 images belonging to 2 classes.\n",
      "Found 46 images belonging to 2 classes.\n"
     ]
    }
   ],
   "source": [
    "vgg = Vgg16()\n",
    "# Grab a few images at a time for training and validation.\n",
    "# NB: They must be in subdirectories named based on their category\n",
    "batches = vgg.get_batches(path+'train', batch_size=batch_size)\n",
    "val_batches = vgg.get_batches(path+'valid', batch_size=batch_size*2)\n",
    "vgg.finetune(batches)"
   ]
  },
  {
   "cell_type": "code",
   "execution_count": 54,
   "metadata": {
    "collapsed": false
   },
   "outputs": [
    {
     "name": "stdout",
     "output_type": "stream",
     "text": [
      "Epoch 1/1\n",
      "184/184 [==============================] - 12s - loss: 1.0583 - acc: 0.5870 - val_loss: 0.3381 - val_acc: 0.8478\n"
     ]
    }
   ],
   "source": [
    "vgg.fit(batches, val_batches, nb_epoch=1)"
   ]
  },
  {
   "cell_type": "code",
   "execution_count": 55,
   "metadata": {
    "collapsed": true
   },
   "outputs": [],
   "source": [
    "#save the model weights into a results folder\n",
    "#%mkdir '../data/invasive-species/sample/results'"
   ]
  },
  {
   "cell_type": "code",
   "execution_count": 56,
   "metadata": {
    "collapsed": true
   },
   "outputs": [],
   "source": [
    "vgg.model.save_weights(path+'results/ft1.h5')"
   ]
  },
  {
   "cell_type": "code",
   "execution_count": 57,
   "metadata": {
    "collapsed": false
   },
   "outputs": [
    {
     "name": "stdout",
     "output_type": "stream",
     "text": [
      "Epoch 1/1\n",
      "184/184 [==============================] - 11s - loss: 0.7167 - acc: 0.7228 - val_loss: 0.4645 - val_acc: 0.8043\n"
     ]
    }
   ],
   "source": [
    "vgg.fit(batches, val_batches, nb_epoch=1)"
   ]
  },
  {
   "cell_type": "code",
   "execution_count": 58,
   "metadata": {
    "collapsed": true
   },
   "outputs": [],
   "source": [
    "vgg.model.save_weights(path+'results/ft2.h5')"
   ]
  },
  {
   "cell_type": "code",
   "execution_count": 59,
   "metadata": {
    "collapsed": false
   },
   "outputs": [
    {
     "name": "stdout",
     "output_type": "stream",
     "text": [
      "Epoch 1/1\n",
      "184/184 [==============================] - 10s - loss: 0.5425 - acc: 0.7826 - val_loss: 0.2699 - val_acc: 0.8478\n"
     ]
    }
   ],
   "source": [
    "vgg.fit(batches, val_batches, nb_epoch=1)"
   ]
  },
  {
   "cell_type": "code",
   "execution_count": 60,
   "metadata": {
    "collapsed": true
   },
   "outputs": [],
   "source": [
    "vgg.model.save_weights(path+'results/ft3.h5')"
   ]
  },
  {
   "cell_type": "code",
   "execution_count": 61,
   "metadata": {
    "collapsed": false
   },
   "outputs": [
    {
     "name": "stdout",
     "output_type": "stream",
     "text": [
      "Epoch 1/1\n",
      "184/184 [==============================] - 11s - loss: 0.5005 - acc: 0.8152 - val_loss: 0.2772 - val_acc: 0.8913\n"
     ]
    }
   ],
   "source": [
    "vgg.fit(batches, val_batches, nb_epoch=1)"
   ]
  },
  {
   "cell_type": "code",
   "execution_count": 62,
   "metadata": {
    "collapsed": true
   },
   "outputs": [],
   "source": [
    "vgg.model.save_weights(path+'results/ft4.h5')"
   ]
  },
  {
   "cell_type": "code",
   "execution_count": 63,
   "metadata": {
    "collapsed": false
   },
   "outputs": [
    {
     "name": "stdout",
     "output_type": "stream",
     "text": [
      "Epoch 1/1\n",
      "184/184 [==============================] - 11s - loss: 0.3507 - acc: 0.8587 - val_loss: 0.2972 - val_acc: 0.8696\n"
     ]
    }
   ],
   "source": [
    "vgg.fit(batches, val_batches, nb_epoch=1)"
   ]
  },
  {
   "cell_type": "code",
   "execution_count": 64,
   "metadata": {
    "collapsed": true
   },
   "outputs": [],
   "source": [
    "vgg.model.save_weights(path+'results/ft5.h5')"
   ]
  },
  {
   "cell_type": "code",
   "execution_count": 65,
   "metadata": {
    "collapsed": false
   },
   "outputs": [
    {
     "name": "stdout",
     "output_type": "stream",
     "text": [
      "Epoch 1/1\n",
      "184/184 [==============================] - 10s - loss: 0.4630 - acc: 0.8424 - val_loss: 0.3769 - val_acc: 0.8696\n"
     ]
    }
   ],
   "source": [
    "vgg.fit(batches, val_batches, nb_epoch=1)"
   ]
  },
  {
   "cell_type": "code",
   "execution_count": 66,
   "metadata": {
    "collapsed": false
   },
   "outputs": [
    {
     "name": "stdout",
     "output_type": "stream",
     "text": [
      "Epoch 1/2\n",
      "184/184 [==============================] - 10s - loss: 0.5233 - acc: 0.8261 - val_loss: 0.3146 - val_acc: 0.8478\n",
      "Epoch 2/2\n",
      "184/184 [==============================] - 7s - loss: 0.4662 - acc: 0.8315 - val_loss: 0.2795 - val_acc: 0.8913\n"
     ]
    }
   ],
   "source": [
    "vgg.fit(batches, val_batches, nb_epoch=2)"
   ]
  },
  {
   "cell_type": "markdown",
   "metadata": {},
   "source": [
    "# score the data using the above model"
   ]
  },
  {
   "cell_type": "code",
   "execution_count": 68,
   "metadata": {
    "collapsed": false
   },
   "outputs": [
    {
     "name": "stdout",
     "output_type": "stream",
     "text": [
      "Found 1531 images belonging to 1 classes.\n"
     ]
    }
   ],
   "source": [
    "batches,pred = vgg.test(\"../data/invasive-species/\" +'test',batch_size = batch_size*2)"
   ]
  },
  {
   "cell_type": "code",
   "execution_count": 73,
   "metadata": {
    "collapsed": false
   },
   "outputs": [
    {
     "data": {
      "text/plain": [
       "['unknown/779.jpg',\n",
       " 'unknown/1261.jpg',\n",
       " 'unknown/878.jpg',\n",
       " 'unknown/552.jpg',\n",
       " 'unknown/400.jpg']"
      ]
     },
     "execution_count": 73,
     "metadata": {},
     "output_type": "execute_result"
    }
   ],
   "source": [
    "filenames = batches.filenames\n",
    "filenames[:5]"
   ]
  },
  {
   "cell_type": "code",
   "execution_count": 70,
   "metadata": {
    "collapsed": false
   },
   "outputs": [
    {
     "data": {
      "text/plain": [
       "array([[ 0.997 ,  0.003 ],\n",
       "       [ 0.1028,  0.8972],\n",
       "       [ 0.3031,  0.6969],\n",
       "       [ 0.9555,  0.0445],\n",
       "       [ 0.0414,  0.9586]], dtype=float32)"
      ]
     },
     "execution_count": 70,
     "metadata": {},
     "output_type": "execute_result"
    }
   ],
   "source": [
    "pred[:5]"
   ]
  },
  {
   "cell_type": "code",
   "execution_count": 72,
   "metadata": {
    "collapsed": false
   },
   "outputs": [],
   "source": [
    "isinvasive = pred[:,1]"
   ]
  },
  {
   "cell_type": "code",
   "execution_count": 74,
   "metadata": {
    "collapsed": false
   },
   "outputs": [
    {
     "data": {
      "text/plain": [
       "[779, 1261, 878, 552, 400]"
      ]
     },
     "execution_count": 74,
     "metadata": {},
     "output_type": "execute_result"
    }
   ],
   "source": [
    "ids = [int(f[8:f.find('.')]) for f in filenames]\n",
    "ids[:5]"
   ]
  },
  {
   "cell_type": "code",
   "execution_count": 75,
   "metadata": {
    "collapsed": true
   },
   "outputs": [],
   "source": [
    "subm = np.stack([ids,isinvasive],axis = 1)"
   ]
  },
  {
   "cell_type": "code",
   "execution_count": 78,
   "metadata": {
    "collapsed": true
   },
   "outputs": [],
   "source": [
    "np.savetxt('../data/invasive-species/sample/results/subm8_sample.csv',subm,\n",
    "           fmt = '%d,%.5f',header = 'name,invasive' ,comments = '')"
   ]
  },
  {
   "cell_type": "code",
   "execution_count": 77,
   "metadata": {
    "collapsed": false
   },
   "outputs": [
    {
     "data": {
      "text/html": [
       "<a href='../data/invasive-species/sample/results/subm8_sample.csv' target='_blank'>../data/invasive-species/sample/results/subm8_sample.csv</a><br>"
      ],
      "text/plain": [
       "/home/ubuntu/data/invasive-species/sample/results/subm8_sample.csv"
      ]
     },
     "execution_count": 77,
     "metadata": {},
     "output_type": "execute_result"
    }
   ],
   "source": [
    "from IPython.display import FileLink\n",
    "FileLink('../data/invasive-species/sample/results/subm8_sample.csv')"
   ]
  },
  {
   "cell_type": "markdown",
   "metadata": {},
   "source": [
    "# Now let's try the same with training sample"
   ]
  },
  {
   "cell_type": "code",
   "execution_count": 79,
   "metadata": {
    "collapsed": true
   },
   "outputs": [],
   "source": [
    "path = \"../data/invasive-species/\""
   ]
  },
  {
   "cell_type": "code",
   "execution_count": 93,
   "metadata": {
    "collapsed": false
   },
   "outputs": [
    {
     "name": "stdout",
     "output_type": "stream",
     "text": [
      "Found 1651 images belonging to 2 classes.\n",
      "Found 414 images belonging to 2 classes.\n"
     ]
    }
   ],
   "source": [
    "vgg = Vgg16()\n",
    "# Grab a few images at a time for training and validation.\n",
    "# NB: They must be in subdirectories named based on their category\n",
    "batches = vgg.get_batches(path+'train', batch_size=batch_size)\n",
    "val_batches = vgg.get_batches(path+'valid', batch_size=batch_size*2)\n",
    "vgg.finetune(batches)"
   ]
  },
  {
   "cell_type": "code",
   "execution_count": 81,
   "metadata": {
    "collapsed": false
   },
   "outputs": [
    {
     "name": "stdout",
     "output_type": "stream",
     "text": [
      "Epoch 1/1\n",
      "1651/1651 [==============================] - 87s - loss: 0.6495 - acc: 0.7547 - val_loss: 0.4157 - val_acc: 0.8527\n"
     ]
    }
   ],
   "source": [
    "vgg.fit(batches, val_batches, nb_epoch=1)"
   ]
  },
  {
   "cell_type": "code",
   "execution_count": 82,
   "metadata": {
    "collapsed": false
   },
   "outputs": [
    {
     "name": "stdout",
     "output_type": "stream",
     "text": [
      "Epoch 1/4\n",
      "1651/1651 [==============================] - 78s - loss: 0.3886 - acc: 0.8534 - val_loss: 0.3496 - val_acc: 0.8768\n",
      "Epoch 2/4\n",
      "1651/1651 [==============================] - 62s - loss: 0.3390 - acc: 0.8601 - val_loss: 0.2941 - val_acc: 0.8937\n",
      "Epoch 3/4\n",
      "1651/1651 [==============================] - 72s - loss: 0.3365 - acc: 0.8674 - val_loss: 0.3132 - val_acc: 0.8961\n",
      "Epoch 4/4\n",
      "1651/1651 [==============================] - 62s - loss: 0.3276 - acc: 0.8740 - val_loss: 0.3200 - val_acc: 0.9010\n"
     ]
    }
   ],
   "source": [
    "vgg.fit(batches, val_batches, nb_epoch=4)"
   ]
  },
  {
   "cell_type": "code",
   "execution_count": 83,
   "metadata": {
    "collapsed": true
   },
   "outputs": [],
   "source": [
    "vgg.model.save_weights(path+'results/ft5.h5')"
   ]
  },
  {
   "cell_type": "code",
   "execution_count": 84,
   "metadata": {
    "collapsed": true
   },
   "outputs": [],
   "source": [
    "vgg.model.optimizer.lr = .01"
   ]
  },
  {
   "cell_type": "code",
   "execution_count": 85,
   "metadata": {
    "collapsed": false
   },
   "outputs": [
    {
     "name": "stdout",
     "output_type": "stream",
     "text": [
      "Epoch 1/5\n",
      "1651/1651 [==============================] - 79s - loss: 0.3180 - acc: 0.8740 - val_loss: 0.2400 - val_acc: 0.9034\n",
      "Epoch 2/5\n",
      "1651/1651 [==============================] - 71s - loss: 0.3094 - acc: 0.8837 - val_loss: 0.2666 - val_acc: 0.8961\n",
      "Epoch 3/5\n",
      "1651/1651 [==============================] - 69s - loss: 0.2611 - acc: 0.8928 - val_loss: 0.3087 - val_acc: 0.9058\n",
      "Epoch 4/5\n",
      "1651/1651 [==============================] - 71s - loss: 0.2514 - acc: 0.9001 - val_loss: 0.2607 - val_acc: 0.9106\n",
      "Epoch 5/5\n",
      "1651/1651 [==============================] - 65s - loss: 0.2484 - acc: 0.8970 - val_loss: 0.2628 - val_acc: 0.9010\n"
     ]
    }
   ],
   "source": [
    "vgg.fit(batches, val_batches, nb_epoch=5)"
   ]
  },
  {
   "cell_type": "code",
   "execution_count": 86,
   "metadata": {
    "collapsed": false
   },
   "outputs": [
    {
     "name": "stdout",
     "output_type": "stream",
     "text": [
      "Found 1531 images belonging to 1 classes.\n"
     ]
    }
   ],
   "source": [
    "batches,pred = vgg.test(\"../data/invasive-species/\" +'test',batch_size = batch_size*2)"
   ]
  },
  {
   "cell_type": "code",
   "execution_count": 87,
   "metadata": {
    "collapsed": true
   },
   "outputs": [],
   "source": [
    "filenames = batches.filenames\n",
    "filenames[:5]\n",
    "isinvasive = pred[:,1]\n",
    "ids = [int(f[8:f.find('.')]) for f in filenames]\n",
    "ids[:5]\n",
    "subm = np.stack([ids,isinvasive],axis = 1)\n",
    "np.savetxt('../data/invasive-species/sample/results/invasive_subm_1.csv',subm,\n",
    "           fmt = '%d,%.5f',header = 'name,invasive' ,comments = '')"
   ]
  },
  {
   "cell_type": "code",
   "execution_count": 90,
   "metadata": {
    "collapsed": false
   },
   "outputs": [],
   "source": [
    "vgg.model.load_weights(path+'results/ft5.h5')"
   ]
  },
  {
   "cell_type": "code",
   "execution_count": 91,
   "metadata": {
    "collapsed": true
   },
   "outputs": [],
   "source": [
    "vgg.model.optimizer.lr = .01"
   ]
  },
  {
   "cell_type": "code",
   "execution_count": null,
   "metadata": {
    "collapsed": false
   },
   "outputs": [
    {
     "name": "stdout",
     "output_type": "stream",
     "text": [
      "Epoch 1/10\n",
      "1651/1651 [==============================] - 83s - loss: 0.5686 - acc: 0.7880 - val_loss: 0.4251 - val_acc: 0.8720\n",
      "Epoch 2/10\n",
      "1651/1651 [==============================] - 67s - loss: 0.4043 - acc: 0.8595 - val_loss: 0.3260 - val_acc: 0.8865\n",
      "Epoch 3/10\n",
      "1651/1651 [==============================] - 66s - loss: 0.3473 - acc: 0.8692 - val_loss: 0.2947 - val_acc: 0.8961\n",
      "Epoch 4/10\n",
      "1651/1651 [==============================] - 64s - loss: 0.3457 - acc: 0.8795 - val_loss: 0.2933 - val_acc: 0.8889\n",
      "Epoch 5/10\n",
      "1651/1651 [==============================] - 66s - loss: 0.3144 - acc: 0.8849 - val_loss: 0.3039 - val_acc: 0.8889\n",
      "Epoch 6/10\n",
      "1651/1651 [==============================] - 63s - loss: 0.2917 - acc: 0.8922 - val_loss: 0.2616 - val_acc: 0.8986\n",
      "Epoch 7/10\n",
      "1651/1651 [==============================] - 62s - loss: 0.2901 - acc: 0.8867 - val_loss: 0.3296 - val_acc: 0.8961\n",
      "Epoch 8/10\n",
      "1651/1651 [==============================] - 66s - loss: 0.2514 - acc: 0.9049 - val_loss: 0.2894 - val_acc: 0.8865\n",
      "Epoch 9/10\n",
      "1651/1651 [==============================] - 68s - loss: 0.2631 - acc: 0.8982 - val_loss: 0.2844 - val_acc: 0.9034\n",
      "Epoch 10/10\n",
      "1600/1651 [============================>.] - ETA: 1s - loss: 0.2560 - acc: 0.8938"
     ]
    }
   ],
   "source": [
    "vgg.fit(batches, val_batches, nb_epoch=10)"
   ]
  },
  {
   "cell_type": "code",
   "execution_count": null,
   "metadata": {
    "collapsed": true
   },
   "outputs": [],
   "source": [
    "vgg.model.load_weights(path+'results/ft15.h5')"
   ]
  },
  {
   "cell_type": "code",
   "execution_count": null,
   "metadata": {
    "collapsed": true
   },
   "outputs": [],
   "source": [
    "batches,pred = vgg.test(\"../data/invasive-species/\" +'test',batch_size = batch_size*2)\n",
    "filenames = batches.filenames\n",
    "isinvasive = pred[:,1]\n",
    "ids = [int(f[8:f.find('.')]) for f in filenames]\n",
    "subm = np.stack([ids,isinvasive],axis = 1)\n",
    "np.savetxt('../data/invasive-species/results/invasive_subm_15.csv',subm,\n",
    "           fmt = '%d,%.5f',header = 'name,invasive' ,comments = '')"
   ]
  }
 ],
 "metadata": {
  "anaconda-cloud": {},
  "kernelspec": {
   "display_name": "Python [conda root]",
   "language": "python",
   "name": "conda-root-py"
  },
  "language_info": {
   "codemirror_mode": {
    "name": "ipython",
    "version": 2
   },
   "file_extension": ".py",
   "mimetype": "text/x-python",
   "name": "python",
   "nbconvert_exporter": "python",
   "pygments_lexer": "ipython2",
   "version": "2.7.12"
  }
 },
 "nbformat": 4,
 "nbformat_minor": 1
}

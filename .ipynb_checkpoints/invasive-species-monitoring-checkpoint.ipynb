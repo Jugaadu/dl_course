{
 "cells": [
  {
   "cell_type": "markdown",
   "metadata": {},
   "source": [
    "first of all make the file structure in order to apply keras deeplearning"
   ]
  },
  {
   "cell_type": "code",
   "execution_count": 1,
   "metadata": {
    "collapsed": true
   },
   "outputs": [],
   "source": [
    "%mkdir ../data/invasive-species/train/hydrangea\n",
    "%mkdir ../data/invasive-species/train/nonhydrangea"
   ]
  },
  {
   "cell_type": "code",
   "execution_count": 2,
   "metadata": {
    "collapsed": true
   },
   "outputs": [],
   "source": [
    "# make validation folders\n",
    "%mkdir ../data/invasive-species/valid\n",
    "%mkdir ../data/invasive-species/valid/hydrangea\n",
    "%mkdir ../data/invasive-species/valid/nonhydrangea"
   ]
  },
  {
   "cell_type": "code",
   "execution_count": 3,
   "metadata": {
    "collapsed": true
   },
   "outputs": [],
   "source": [
    "#make folders for sample\n",
    "%mkdir ../data/invasive-species/sample\n",
    "%mkdir ../data/invasive-species/sample/train\n",
    "%mkdir ../data/invasive-species/sample/train/hydrangea\n",
    "%mkdir ../data/invasive-species/sample/train/nonhydrangea\n",
    "%mkdir ../data/invasive-species/sample/valid\n",
    "%mkdir ../data/invasive-species/sample/valid/hydrangea\n",
    "%mkdir ../data/invasive-species/sample/valid/nonhydrangea"
   ]
  },
  {
   "cell_type": "code",
   "execution_count": 5,
   "metadata": {
    "collapsed": true
   },
   "outputs": [],
   "source": [
    "%mkdir ../data/invasive-species/test/unknown"
   ]
  },
  {
   "cell_type": "code",
   "execution_count": 6,
   "metadata": {
    "collapsed": false
   },
   "outputs": [
    {
     "name": "stdout",
     "output_type": "stream",
     "text": [
      "\u001b[01;34m../data/invasive-species/\u001b[00m\r\n",
      "|-- \u001b[01;34msample\u001b[00m\r\n",
      "|   |-- \u001b[01;34mtrain\u001b[00m\r\n",
      "|   |   |-- \u001b[01;34mhydrangea\u001b[00m\r\n",
      "|   |   `-- \u001b[01;34mnonhydrangea\u001b[00m\r\n",
      "|   `-- \u001b[01;34mvalid\u001b[00m\r\n",
      "|       |-- \u001b[01;34mhydrangea\u001b[00m\r\n",
      "|       `-- \u001b[01;34mnonhydrangea\u001b[00m\r\n",
      "|-- \u001b[01;34mtest\u001b[00m\r\n",
      "|   `-- \u001b[01;34munknown\u001b[00m\r\n",
      "|-- \u001b[01;34mtrain\u001b[00m\r\n",
      "|   |-- \u001b[01;34mhydrangea\u001b[00m\r\n",
      "|   `-- \u001b[01;34mnonhydrangea\u001b[00m\r\n",
      "`-- \u001b[01;34mvalid\u001b[00m\r\n",
      "    |-- \u001b[01;34mhydrangea\u001b[00m\r\n",
      "    `-- \u001b[01;34mnonhydrangea\u001b[00m\r\n",
      "\r\n",
      "15 directories\r\n"
     ]
    }
   ],
   "source": [
    "!tree -d ../data/invasive-species/"
   ]
  },
  {
   "cell_type": "code",
   "execution_count": 7,
   "metadata": {
    "collapsed": true
   },
   "outputs": [],
   "source": [
    "import pandas as pd"
   ]
  },
  {
   "cell_type": "code",
   "execution_count": 11,
   "metadata": {
    "collapsed": true
   },
   "outputs": [],
   "source": [
    "lab = pd.read_csv('../data/invasive-species/train_labels.csv')"
   ]
  },
  {
   "cell_type": "code",
   "execution_count": 12,
   "metadata": {
    "collapsed": false
   },
   "outputs": [
    {
     "data": {
      "text/html": [
       "<div>\n",
       "<table border=\"1\" class=\"dataframe\">\n",
       "  <thead>\n",
       "    <tr style=\"text-align: right;\">\n",
       "      <th></th>\n",
       "      <th>name</th>\n",
       "      <th>invasive</th>\n",
       "    </tr>\n",
       "  </thead>\n",
       "  <tbody>\n",
       "    <tr>\n",
       "      <th>0</th>\n",
       "      <td>1</td>\n",
       "      <td>0</td>\n",
       "    </tr>\n",
       "    <tr>\n",
       "      <th>1</th>\n",
       "      <td>2</td>\n",
       "      <td>0</td>\n",
       "    </tr>\n",
       "    <tr>\n",
       "      <th>2</th>\n",
       "      <td>3</td>\n",
       "      <td>1</td>\n",
       "    </tr>\n",
       "    <tr>\n",
       "      <th>3</th>\n",
       "      <td>4</td>\n",
       "      <td>0</td>\n",
       "    </tr>\n",
       "    <tr>\n",
       "      <th>4</th>\n",
       "      <td>5</td>\n",
       "      <td>1</td>\n",
       "    </tr>\n",
       "  </tbody>\n",
       "</table>\n",
       "</div>"
      ],
      "text/plain": [
       "   name  invasive\n",
       "0     1         0\n",
       "1     2         0\n",
       "2     3         1\n",
       "3     4         0\n",
       "4     5         1"
      ]
     },
     "execution_count": 12,
     "metadata": {},
     "output_type": "execute_result"
    }
   ],
   "source": [
    "lab.head()"
   ]
  },
  {
   "cell_type": "code",
   "execution_count": 17,
   "metadata": {
    "collapsed": true
   },
   "outputs": [],
   "source": [
    "def makefilename(x):\n",
    "    return str(x)+'.jpg'"
   ]
  },
  {
   "cell_type": "code",
   "execution_count": 18,
   "metadata": {
    "collapsed": false
   },
   "outputs": [],
   "source": [
    "lab['fname'] = lab.name.apply(makefilename)"
   ]
  },
  {
   "cell_type": "code",
   "execution_count": 21,
   "metadata": {
    "collapsed": false
   },
   "outputs": [
    {
     "data": {
      "text/html": [
       "<div>\n",
       "<table border=\"1\" class=\"dataframe\">\n",
       "  <thead>\n",
       "    <tr style=\"text-align: right;\">\n",
       "      <th></th>\n",
       "      <th>name</th>\n",
       "      <th>invasive</th>\n",
       "      <th>fname</th>\n",
       "    </tr>\n",
       "  </thead>\n",
       "  <tbody>\n",
       "    <tr>\n",
       "      <th>0</th>\n",
       "      <td>1</td>\n",
       "      <td>0</td>\n",
       "      <td>1.jpg</td>\n",
       "    </tr>\n",
       "    <tr>\n",
       "      <th>1</th>\n",
       "      <td>2</td>\n",
       "      <td>0</td>\n",
       "      <td>2.jpg</td>\n",
       "    </tr>\n",
       "    <tr>\n",
       "      <th>2</th>\n",
       "      <td>3</td>\n",
       "      <td>1</td>\n",
       "      <td>3.jpg</td>\n",
       "    </tr>\n",
       "    <tr>\n",
       "      <th>3</th>\n",
       "      <td>4</td>\n",
       "      <td>0</td>\n",
       "      <td>4.jpg</td>\n",
       "    </tr>\n",
       "    <tr>\n",
       "      <th>4</th>\n",
       "      <td>5</td>\n",
       "      <td>1</td>\n",
       "      <td>5.jpg</td>\n",
       "    </tr>\n",
       "  </tbody>\n",
       "</table>\n",
       "</div>"
      ],
      "text/plain": [
       "   name  invasive  fname\n",
       "0     1         0  1.jpg\n",
       "1     2         0  2.jpg\n",
       "2     3         1  3.jpg\n",
       "3     4         0  4.jpg\n",
       "4     5         1  5.jpg"
      ]
     },
     "execution_count": 21,
     "metadata": {},
     "output_type": "execute_result"
    }
   ],
   "source": [
    "lab.head()"
   ]
  },
  {
   "cell_type": "code",
   "execution_count": 23,
   "metadata": {
    "collapsed": false
   },
   "outputs": [],
   "source": [
    "invasive = lab.loc[lab['invasive']>0,['fname']]"
   ]
  },
  {
   "cell_type": "code",
   "execution_count": 28,
   "metadata": {
    "collapsed": false
   },
   "outputs": [],
   "source": [
    "invasive_file = list(invasive.fname)"
   ]
  },
  {
   "cell_type": "code",
   "execution_count": 29,
   "metadata": {
    "collapsed": true
   },
   "outputs": [],
   "source": [
    "noninvasive = lab.loc[lab['invasive']==0,['fname']]"
   ]
  },
  {
   "cell_type": "code",
   "execution_count": 30,
   "metadata": {
    "collapsed": true
   },
   "outputs": [],
   "source": [
    "noninvasive_file = list(noninvasive.fname)"
   ]
  },
  {
   "cell_type": "code",
   "execution_count": 33,
   "metadata": {
    "collapsed": true
   },
   "outputs": [],
   "source": [
    "from glob import glob\n",
    "import os"
   ]
  },
  {
   "cell_type": "code",
   "execution_count": 32,
   "metadata": {
    "collapsed": true
   },
   "outputs": [],
   "source": [
    "from random import shuffle\n",
    "import shutil"
   ]
  },
  {
   "cell_type": "code",
   "execution_count": 34,
   "metadata": {
    "collapsed": true
   },
   "outputs": [],
   "source": [
    "#move invasive to invasive and noninvasive to noninvasive\n",
    "from_path = '../data/invasive-species/train/'\n",
    "to_path = '../data/invasive-species/train/hydrangea/'\n",
    "for f in invasive_file:\n",
    "    shutil.move(from_path+f,to_path)"
   ]
  },
  {
   "cell_type": "code",
   "execution_count": 35,
   "metadata": {
    "collapsed": true
   },
   "outputs": [],
   "source": [
    "#move invasive to invasive and noninvasive to noninvasive\n",
    "from_path = '../data/invasive-species/train/'\n",
    "to_path = '../data/invasive-species/train/nonhydrangea/'\n",
    "for f in noninvasive_file:\n",
    "    shutil.move(from_path+f,to_path)"
   ]
  },
  {
   "cell_type": "code",
   "execution_count": 36,
   "metadata": {
    "collapsed": true
   },
   "outputs": [],
   "source": [
    "# now make 80:20 split and move it to validation sample\n",
    "# lets make a function to take care of the repeatative work\n",
    "def move_file(from_path,to_path,percent):\n",
    "    all_data = glob(os.path.join(from_path,'*.*'))\n",
    "    shuffle(all_data)\n",
    "    split_point = int(len(all_data)*percent)\n",
    "    #train_data = all_data[:split_point]\n",
    "    split_data = all_data[split_point:]\n",
    "\n",
    "\n",
    "    for f in split_data:\n",
    "        shutil.move(f,to_path)"
   ]
  },
  {
   "cell_type": "code",
   "execution_count": 37,
   "metadata": {
    "collapsed": true
   },
   "outputs": [],
   "source": [
    "from_path ='../data/invasive-species/train/hydrangea/'\n",
    "to_path = '../data/invasive-species/valid/hydrangea/'\n",
    "move_file(from_path,to_path,.8)"
   ]
  },
  {
   "cell_type": "code",
   "execution_count": 38,
   "metadata": {
    "collapsed": true
   },
   "outputs": [],
   "source": [
    "from_path ='../data/invasive-species/train/nonhydrangea/'\n",
    "to_path = '../data/invasive-species/valid/nonhydrangea/'\n",
    "move_file(from_path,to_path,.8)"
   ]
  },
  {
   "cell_type": "code",
   "execution_count": 39,
   "metadata": {
    "collapsed": true
   },
   "outputs": [],
   "source": [
    "# lets make a function to take care of the repeatative work\n",
    "def copy_file(from_path,to_path,percent):\n",
    "    all_data = glob(os.path.join(from_path,'*.*'))\n",
    "    shuffle(all_data)\n",
    "    split_point = int(len(all_data)*percent)\n",
    "    #train_data = all_data[:split_point]\n",
    "    split_data = all_data[split_point:]\n",
    "    #now copy these files to the dogs folder in validation set\n",
    "\n",
    "    for f in split_data:\n",
    "        shutil.copy(f,to_path)"
   ]
  },
  {
   "cell_type": "code",
   "execution_count": 40,
   "metadata": {
    "collapsed": true
   },
   "outputs": [],
   "source": [
    "from_path ='../data/invasive-species/train/nonhydrangea/'\n",
    "to_path = '../data/invasive-species/sample/train/nonhydrangea/'\n",
    "move_file(from_path,to_path,.9)\n",
    "\n",
    "from_path ='../data/invasive-species/train/hydrangea/'\n",
    "to_path = '../data/invasive-species/sample/train/hydrangea/'\n",
    "move_file(from_path,to_path,.9)"
   ]
  },
  {
   "cell_type": "code",
   "execution_count": 41,
   "metadata": {
    "collapsed": true
   },
   "outputs": [],
   "source": [
    "from_path ='../data/invasive-species/valid/nonhydrangea/'\n",
    "to_path = '../data/invasive-species/sample/valid/nonhydrangea/'\n",
    "move_file(from_path,to_path,.9)\n",
    "\n",
    "from_path ='../data/invasive-species/valid/hydrangea/'\n",
    "to_path = '../data/invasive-species/sample/valid/hydrangea/'\n",
    "move_file(from_path,to_path,.9)"
   ]
  },
  {
   "cell_type": "code",
   "execution_count": 42,
   "metadata": {
    "collapsed": false
   },
   "outputs": [
    {
     "name": "stdout",
     "output_type": "stream",
     "text": [
      "1042\r\n"
     ]
    }
   ],
   "source": [
    "ls ../data/invasive-species/train/hydrangea/|wc -l"
   ]
  },
  {
   "cell_type": "code",
   "execution_count": 43,
   "metadata": {
    "collapsed": false
   },
   "outputs": [
    {
     "name": "stdout",
     "output_type": "stream",
     "text": [
      "609\r\n"
     ]
    }
   ],
   "source": [
    "ls ../data/invasive-species/train/nonhydrangea/|wc -l"
   ]
  },
  {
   "cell_type": "code",
   "execution_count": 44,
   "metadata": {
    "collapsed": false
   },
   "outputs": [
    {
     "name": "stdout",
     "output_type": "stream",
     "text": [
      "261\r\n"
     ]
    }
   ],
   "source": [
    "ls ../data/invasive-species/valid/hydrangea/|wc -l"
   ]
  },
  {
   "cell_type": "code",
   "execution_count": 45,
   "metadata": {
    "collapsed": false
   },
   "outputs": [
    {
     "name": "stdout",
     "output_type": "stream",
     "text": [
      "153\r\n"
     ]
    }
   ],
   "source": [
    "ls ../data/invasive-species/valid/nonhydrangea/|wc -l"
   ]
  },
  {
   "cell_type": "code",
   "execution_count": 46,
   "metadata": {
    "collapsed": false
   },
   "outputs": [
    {
     "name": "stdout",
     "output_type": "stream",
     "text": [
      "\u001b[01;34m../data/invasive-species\u001b[00m\r\n",
      "|-- \u001b[01;34msample\u001b[00m\r\n",
      "|   |-- \u001b[01;34mtrain\u001b[00m\r\n",
      "|   |   |-- \u001b[01;34mhydrangea\u001b[00m\r\n",
      "|   |   `-- \u001b[01;34mnonhydrangea\u001b[00m\r\n",
      "|   `-- \u001b[01;34mvalid\u001b[00m\r\n",
      "|       |-- \u001b[01;34mhydrangea\u001b[00m\r\n",
      "|       `-- \u001b[01;34mnonhydrangea\u001b[00m\r\n",
      "|-- \u001b[01;34mtest\u001b[00m\r\n",
      "|   `-- \u001b[01;34munknown\u001b[00m\r\n",
      "|-- \u001b[01;34mtrain\u001b[00m\r\n",
      "|   |-- \u001b[01;34mhydrangea\u001b[00m\r\n",
      "|   `-- \u001b[01;34mnonhydrangea\u001b[00m\r\n",
      "`-- \u001b[01;34mvalid\u001b[00m\r\n",
      "    |-- \u001b[01;34mhydrangea\u001b[00m\r\n",
      "    `-- \u001b[01;34mnonhydrangea\u001b[00m\r\n",
      "\r\n",
      "15 directories\r\n"
     ]
    }
   ],
   "source": [
    "!tree -d ../data/invasive-species"
   ]
  },
  {
   "cell_type": "markdown",
   "metadata": {},
   "source": []
  }
 ],
 "metadata": {
  "anaconda-cloud": {},
  "kernelspec": {
   "display_name": "Python [conda root]",
   "language": "python",
   "name": "conda-root-py"
  },
  "language_info": {
   "codemirror_mode": {
    "name": "ipython",
    "version": 2
   },
   "file_extension": ".py",
   "mimetype": "text/x-python",
   "name": "python",
   "nbconvert_exporter": "python",
   "pygments_lexer": "ipython2",
   "version": "2.7.12"
  }
 },
 "nbformat": 4,
 "nbformat_minor": 1
}

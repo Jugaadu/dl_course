{
 "cells": [
  {
   "cell_type": "markdown",
   "metadata": {},
   "source": [
    "# Kaggle competition dogscats redux kernel"
   ]
  },
  {
   "cell_type": "markdown",
   "metadata": {},
   "source": [
    "List of task to be done:-\n",
    "- Download dogscats redux dataset\n",
    "- make proper training validation and sample dataset\n",
    "- use VGG16 pretrained model and make a classifier \n",
    "- apply the model into sample dataset\n",
    "- save your model after each epoch\n",
    "- once you have good accuracy then train the whole dataset\n",
    "- validate on the validation sample\n",
    "- score the test dataset then submit your score on kaggle"
   ]
  },
  {
   "cell_type": "code",
   "execution_count": 9,
   "metadata": {
    "collapsed": false
   },
   "outputs": [
    {
     "name": "stdout",
     "output_type": "stream",
     "text": [
      "/home/ubuntu/data/dogscats-redux/train\n"
     ]
    }
   ],
   "source": [
    "# lets move to train folder and make two folders one for dogs and another for cats\n",
    "%cd /home/ubuntu/data/dogscats-redux/train\n",
    "%mkdir dogs\n",
    "%mkdir cats\n"
   ]
  },
  {
   "cell_type": "code",
   "execution_count": 17,
   "metadata": {
    "collapsed": false
   },
   "outputs": [],
   "source": [
    "# move dogs to dogs folder and cats to cats folder, needed once only\n",
    "#%mv dog*.* dogs\n",
    "#%mv cat*.* cats\n"
   ]
  },
  {
   "cell_type": "code",
   "execution_count": 21,
   "metadata": {
    "collapsed": false
   },
   "outputs": [
    {
     "name": "stdout",
     "output_type": "stream",
     "text": [
      "/home/ubuntu/data/dogscats-redux\n",
      "mkdir: cannot create directory 'samplev/alid': No such file or directory\n",
      "mkdir: cannot create directory 'sample/valid/dogs': No such file or directory\n",
      "mkdir: cannot create directory 'sample/valid/cats': No such file or directory\n"
     ]
    }
   ],
   "source": [
    "#needed once only\n",
    "#%cd /home/ubuntu/data/dogscats-redux/\n",
    "#%mkdir valid\n",
    "#%mkdir valid/dogs\n",
    "#%mkdir valid/cats\n",
    "#%mkdir sample\n",
    "#%mkdir sample/train\n",
    "#%mkdir sample/train/dogs\n",
    "##%mkdir sample/train/cats\n",
    "#%mkdir sample/valid\n",
    "#%mkdir sample/valid/dogs\n",
    "#%mkdir sample/valid/cats\n"
   ]
  },
  {
   "cell_type": "code",
   "execution_count": 22,
   "metadata": {
    "collapsed": true
   },
   "outputs": [],
   "source": []
  },
  {
   "cell_type": "code",
   "execution_count": 20,
   "metadata": {
    "collapsed": false
   },
   "outputs": [],
   "source": [
    "import os\n",
    "import random\n",
    "import dircache\n",
    "import shutil"
   ]
  },
  {
   "cell_type": "code",
   "execution_count": 19,
   "metadata": {
    "collapsed": false
   },
   "outputs": [
    {
     "name": "stdout",
     "output_type": "stream",
     "text": [
      "/home/ubuntu/data/dogscats-redux/train/dogs/dog.171.jpg\n"
     ]
    }
   ],
   "source": [
    "dir = '/home/ubuntu/data/dogscats-redux/train/dogs/'\n",
    "dest = '/home/ubuntu/data/dogscats-redux/sample/dogs'\n",
    "\n",
    "for j in range(1000):\n",
    "    filename = random.choice(dircache.listdir(dir))\n",
    "    path = os.path.join(dir, filename)\n",
    "    shutil.copyfile(path,'')\n",
    "    "
   ]
  },
  {
   "cell_type": "code",
   "execution_count": 5,
   "metadata": {
    "collapsed": false
   },
   "outputs": [
    {
     "name": "stdout",
     "output_type": "stream",
     "text": [
      "\u001b[0m\u001b[01;34mdogscats\u001b[0m/  \u001b[01;34mdogscats-redux\u001b[0m/  \u001b[01;31mdogscats.zip\u001b[0m\r\n"
     ]
    }
   ],
   "source": [
    "ls"
   ]
  },
  {
   "cell_type": "code",
   "execution_count": 6,
   "metadata": {
    "collapsed": false
   },
   "outputs": [
    {
     "name": "stdout",
     "output_type": "stream",
     "text": [
      "/home/ubuntu/data/dogscats-redux\n"
     ]
    }
   ],
   "source": [
    "cd dogscats-redux/"
   ]
  },
  {
   "cell_type": "code",
   "execution_count": 7,
   "metadata": {
    "collapsed": false
   },
   "outputs": [
    {
     "name": "stdout",
     "output_type": "stream",
     "text": [
      "sample_submission.csv  \u001b[0m\u001b[01;34mtest\u001b[0m/  \u001b[01;34mtrain\u001b[0m/\r\n"
     ]
    }
   ],
   "source": [
    "ls"
   ]
  },
  {
   "cell_type": "code",
   "execution_count": null,
   "metadata": {
    "collapsed": true
   },
   "outputs": [],
   "source": [
    "tree "
   ]
  }
 ],
 "metadata": {
  "anaconda-cloud": {},
  "kernelspec": {
   "display_name": "Python [conda root]",
   "language": "python",
   "name": "conda-root-py"
  },
  "language_info": {
   "codemirror_mode": {
    "name": "ipython",
    "version": 2
   },
   "file_extension": ".py",
   "mimetype": "text/x-python",
   "name": "python",
   "nbconvert_exporter": "python",
   "pygments_lexer": "ipython2",
   "version": "2.7.12"
  }
 },
 "nbformat": 4,
 "nbformat_minor": 1
}

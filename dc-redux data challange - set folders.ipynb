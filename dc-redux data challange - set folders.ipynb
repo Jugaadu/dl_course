{
 "cells": [
  {
   "cell_type": "markdown",
   "metadata": {},
   "source": [
    "# Kaggle competition dogscats redux kernel"
   ]
  },
  {
   "cell_type": "markdown",
   "metadata": {},
   "source": [
    "List of task to be done:-\n",
    "- Download dogscats redux dataset\n",
    "- make proper training validation and sample dataset\n",
    "- use VGG16 pretrained model and make a classifier \n",
    "- apply the model into sample dataset\n",
    "- save your model after each epoch\n",
    "- once you have good accuracy then train the whole dataset\n",
    "- validate on the validation sample\n",
    "- score the test dataset then submit your score on kaggle"
   ]
  },
  {
   "cell_type": "code",
   "execution_count": 9,
   "metadata": {
    "collapsed": false
   },
   "outputs": [
    {
     "name": "stdout",
     "output_type": "stream",
     "text": [
      "/home/ubuntu/data/dogscats-redux/train\n"
     ]
    }
   ],
   "source": [
    "# lets move to train folder and make two folders one for dogs and another for cats\n",
    "%cd /home/ubuntu/data/dogscats-redux/train\n",
    "%mkdir dogs\n",
    "%mkdir cats\n"
   ]
  },
  {
   "cell_type": "code",
   "execution_count": 17,
   "metadata": {
    "collapsed": false
   },
   "outputs": [],
   "source": [
    "# move dogs to dogs folder and cats to cats folder, needed once only\n",
    "%mv dog*.* dogs\n",
    "%mv cat*.* cats\n"
   ]
  },
  {
   "cell_type": "code",
   "execution_count": 21,
   "metadata": {
    "collapsed": false
   },
   "outputs": [
    {
     "name": "stdout",
     "output_type": "stream",
     "text": [
      "/home/ubuntu/data/dogscats-redux\n",
      "mkdir: cannot create directory 'samplev/alid': No such file or directory\n",
      "mkdir: cannot create directory 'sample/valid/dogs': No such file or directory\n",
      "mkdir: cannot create directory 'sample/valid/cats': No such file or directory\n"
     ]
    }
   ],
   "source": [
    "#needed once only\n",
    "%cd /home/ubuntu/data/dogscats-redux/\n",
    "%mkdir valid\n",
    "%mkdir valid/dogs\n",
    "%mkdir valid/cats\n",
    "%mkdir sample\n",
    "%mkdir sample/train\n",
    "%mkdir sample/train/dogs\n",
    "%mkdir sample/train/cats\n",
    "%mkdir sample/valid\n",
    "%mkdir sample/valid/dogs\n",
    "%mkdir sample/valid/cats\n"
   ]
  },
  {
   "cell_type": "code",
   "execution_count": 1,
   "metadata": {
    "collapsed": true
   },
   "outputs": [],
   "source": [
    "import os\n",
    "import shutil\n",
    "from glob import glob\n",
    "from random import shuffle"
   ]
  },
  {
   "cell_type": "code",
   "execution_count": 7,
   "metadata": {
    "collapsed": false
   },
   "outputs": [],
   "source": [
    "#lets put the files into validation folder\n",
    "#start from dogs folder\n",
    "\n",
    "path = '/home/ubuntu/data/dogscats-redux/train/dogs'\n",
    "all_dogs = glob(os.path.join(path,'*.*'))\n",
    "shuffle(all_dogs)\n",
    "split_point = int(len(all_dogs)*.8)\n",
    "train_dogs = all_dogs[:split_point]\n",
    "validation_dogs = all_dogs[split_point:]"
   ]
  },
  {
   "cell_type": "code",
   "execution_count": 8,
   "metadata": {
    "collapsed": false
   },
   "outputs": [
    {
     "data": {
      "text/plain": [
       "['/home/ubuntu/data/dogscats-redux/train/dogs/dog.9795.jpg',\n",
       " '/home/ubuntu/data/dogscats-redux/train/dogs/dog.8938.jpg',\n",
       " '/home/ubuntu/data/dogscats-redux/train/dogs/dog.9720.jpg',\n",
       " '/home/ubuntu/data/dogscats-redux/train/dogs/dog.1984.jpg',\n",
       " '/home/ubuntu/data/dogscats-redux/train/dogs/dog.7677.jpg']"
      ]
     },
     "execution_count": 8,
     "metadata": {},
     "output_type": "execute_result"
    }
   ],
   "source": [
    "validation_dogs[:5]"
   ]
  },
  {
   "cell_type": "code",
   "execution_count": 18,
   "metadata": {
    "collapsed": false
   },
   "outputs": [],
   "source": [
    "#now move these files to the dogs folder in validation set\n",
    "validation_path = '/home/ubuntu/data/dogscats-redux/valid/dogs'\n",
    "for f in validation_dogs:\n",
    "    shutil.move(f,validation_path)"
   ]
  },
  {
   "cell_type": "code",
   "execution_count": 20,
   "metadata": {
    "collapsed": false
   },
   "outputs": [
    {
     "name": "stdout",
     "output_type": "stream",
     "text": [
      "2500\r\n"
     ]
    }
   ],
   "source": [
    "ls /home/ubuntu/data/dogscats-redux/valid/dogs| wc -l"
   ]
  },
  {
   "cell_type": "code",
   "execution_count": 22,
   "metadata": {
    "collapsed": false
   },
   "outputs": [],
   "source": [
    "#lets put the files into validation folder\n",
    "#now from cats folder\n",
    "\n",
    "path = '/home/ubuntu/data/dogscats-redux/train/cats'\n",
    "all_cats = glob(os.path.join(path,'*.*'))\n",
    "shuffle(all_cats)\n",
    "split_point = int(len(all_cats)*.8)\n",
    "train_cats = all_cats[:split_point]\n",
    "validation_cats = all_cats[split_point:]"
   ]
  },
  {
   "cell_type": "code",
   "execution_count": 23,
   "metadata": {
    "collapsed": false
   },
   "outputs": [
    {
     "data": {
      "text/plain": [
       "['/home/ubuntu/data/dogscats-redux/train/cats/cat.648.jpg',\n",
       " '/home/ubuntu/data/dogscats-redux/train/cats/cat.5135.jpg',\n",
       " '/home/ubuntu/data/dogscats-redux/train/cats/cat.10185.jpg',\n",
       " '/home/ubuntu/data/dogscats-redux/train/cats/cat.7640.jpg',\n",
       " '/home/ubuntu/data/dogscats-redux/train/cats/cat.8906.jpg']"
      ]
     },
     "execution_count": 23,
     "metadata": {},
     "output_type": "execute_result"
    }
   ],
   "source": [
    "validation_cats[:5]"
   ]
  },
  {
   "cell_type": "code",
   "execution_count": 24,
   "metadata": {
    "collapsed": true
   },
   "outputs": [],
   "source": [
    "#now mode these files to the cats folder in validation set\n",
    "validation_path = '/home/ubuntu/data/dogscats-redux/valid/cats'\n",
    "for f in validation_cats:\n",
    "    shutil.move(f,validation_path)"
   ]
  },
  {
   "cell_type": "code",
   "execution_count": 25,
   "metadata": {
    "collapsed": false
   },
   "outputs": [
    {
     "name": "stdout",
     "output_type": "stream",
     "text": [
      "2500\r\n"
     ]
    }
   ],
   "source": [
    "ls /home/ubuntu/data/dogscats-redux/valid/dogs| wc -l"
   ]
  },
  {
   "cell_type": "markdown",
   "metadata": {},
   "source": [
    "# Make sample folder with train validation data"
   ]
  },
  {
   "cell_type": "markdown",
   "metadata": {},
   "source": [
    "Sample will have 10% of the total data and later on spllit them into 80:20 for training and validation"
   ]
  },
  {
   "cell_type": "code",
   "execution_count": 27,
   "metadata": {
    "collapsed": false
   },
   "outputs": [
    {
     "name": "stdout",
     "output_type": "stream",
     "text": [
      "\u001b[0m\u001b[01;34mtrain\u001b[0m/  \u001b[01;34mvalid\u001b[0m/\r\n"
     ]
    }
   ],
   "source": [
    "ls /home/ubuntu/data/dogscats-redux/sample"
   ]
  },
  {
   "cell_type": "code",
   "execution_count": 32,
   "metadata": {
    "collapsed": false
   },
   "outputs": [],
   "source": [
    "# lets make a function to take care of the repeatative work\n",
    "def copy_file(from_path,to_path,percent):\n",
    "    all_data = glob(os.path.join(from_path,'*.*'))\n",
    "    shuffle(all_data)\n",
    "    split_point = int(len(all_data)*percent)\n",
    "    train_data = all_data[:split_point]\n",
    "    validation_data = all_data[split_point:]\n",
    "    #now copy these files to the dogs folder in validation set\n",
    "\n",
    "    for f in validation_data:\n",
    "        shutil.copy(f,to_path)\n",
    "    "
   ]
  },
  {
   "cell_type": "code",
   "execution_count": 33,
   "metadata": {
    "collapsed": false
   },
   "outputs": [
    {
     "ename": "NameError",
     "evalue": "name 'ls' is not defined",
     "output_type": "error",
     "traceback": [
      "\u001b[0;31m---------------------------------------------------------------------------\u001b[0m",
      "\u001b[0;31mNameError\u001b[0m                                 Traceback (most recent call last)",
      "\u001b[0;32m<ipython-input-33-5d1a33c38f52>\u001b[0m in \u001b[0;36m<module>\u001b[0;34m()\u001b[0m\n\u001b[1;32m      3\u001b[0m \u001b[0mcopy_file\u001b[0m\u001b[0;34m(\u001b[0m\u001b[0mfrom_path\u001b[0m\u001b[0;34m,\u001b[0m\u001b[0mto_path\u001b[0m\u001b[0;34m,\u001b[0m\u001b[0;36m.9\u001b[0m\u001b[0;34m)\u001b[0m\u001b[0;34m\u001b[0m\u001b[0m\n\u001b[1;32m      4\u001b[0m \u001b[0;34m\u001b[0m\u001b[0m\n\u001b[0;32m----> 5\u001b[0;31m \u001b[0mls\u001b[0m \u001b[0;34m/\u001b[0m\u001b[0mhome\u001b[0m\u001b[0;34m/\u001b[0m\u001b[0mubuntu\u001b[0m\u001b[0;34m/\u001b[0m\u001b[0mdata\u001b[0m\u001b[0;34m/\u001b[0m\u001b[0mdogscats\u001b[0m\u001b[0;34m-\u001b[0m\u001b[0mredux\u001b[0m\u001b[0;34m/\u001b[0m\u001b[0msample\u001b[0m\u001b[0;34m/\u001b[0m\u001b[0mtrain\u001b[0m\u001b[0;34m/\u001b[0m\u001b[0mdogs\u001b[0m\u001b[0;34m|\u001b[0m \u001b[0mwc\u001b[0m \u001b[0;34m-\u001b[0m\u001b[0ml\u001b[0m\u001b[0;34m\u001b[0m\u001b[0m\n\u001b[0m",
      "\u001b[0;31mNameError\u001b[0m: name 'ls' is not defined"
     ]
    }
   ],
   "source": [
    "from_path ='/home/ubuntu/data/dogscats-redux/train/dogs'\n",
    "to_path = '/home/ubuntu/data/dogscats-redux/sample/train/dogs'\n",
    "copy_file(from_path,to_path,.9)"
   ]
  },
  {
   "cell_type": "code",
   "execution_count": 34,
   "metadata": {
    "collapsed": false
   },
   "outputs": [
    {
     "name": "stdout",
     "output_type": "stream",
     "text": [
      "1000\r\n"
     ]
    }
   ],
   "source": [
    "ls /home/ubuntu/data/dogscats-redux/sample/train/dogs| wc -l"
   ]
  },
  {
   "cell_type": "code",
   "execution_count": 35,
   "metadata": {
    "collapsed": true
   },
   "outputs": [],
   "source": [
    "from_path ='/home/ubuntu/data/dogscats-redux/train/cats'\n",
    "to_path = '/home/ubuntu/data/dogscats-redux/sample/train/cats'\n",
    "copy_file(from_path,to_path,.9)"
   ]
  },
  {
   "cell_type": "code",
   "execution_count": 38,
   "metadata": {
    "collapsed": false
   },
   "outputs": [
    {
     "name": "stdout",
     "output_type": "stream",
     "text": [
      "1000\r\n"
     ]
    }
   ],
   "source": [
    "ls /home/ubuntu/data/dogscats-redux/sample/train/cats| wc -l"
   ]
  },
  {
   "cell_type": "code",
   "execution_count": 37,
   "metadata": {
    "collapsed": true
   },
   "outputs": [],
   "source": [
    "from_path ='/home/ubuntu/data/dogscats-redux/valid/cats'\n",
    "to_path = '/home/ubuntu/data/dogscats-redux/sample/valid/cats'\n",
    "copy_file(from_path,to_path,.9)"
   ]
  },
  {
   "cell_type": "code",
   "execution_count": 39,
   "metadata": {
    "collapsed": false
   },
   "outputs": [
    {
     "name": "stdout",
     "output_type": "stream",
     "text": [
      "250\r\n"
     ]
    }
   ],
   "source": [
    "ls /home/ubuntu/data/dogscats-redux/sample/valid/cats| wc -l"
   ]
  },
  {
   "cell_type": "code",
   "execution_count": 40,
   "metadata": {
    "collapsed": true
   },
   "outputs": [],
   "source": [
    "from_path ='/home/ubuntu/data/dogscats-redux/valid/dogs'\n",
    "to_path = '/home/ubuntu/data/dogscats-redux/sample/valid/dogs'\n",
    "copy_file(from_path,to_path,.9)"
   ]
  },
  {
   "cell_type": "code",
   "execution_count": 41,
   "metadata": {
    "collapsed": false
   },
   "outputs": [
    {
     "name": "stdout",
     "output_type": "stream",
     "text": [
      "250\r\n"
     ]
    }
   ],
   "source": [
    "ls /home/ubuntu/data/dogscats-redux/sample/valid/dogs| wc -l"
   ]
  },
  {
   "cell_type": "code",
   "execution_count": 42,
   "metadata": {
    "collapsed": false
   },
   "outputs": [
    {
     "name": "stdout",
     "output_type": "stream",
     "text": [
      "\u001b[01;34m/home/ubuntu/data/dogscats-redux\u001b[00m\n",
      "|-- \u001b[01;34msample\u001b[00m\n",
      "|   |-- \u001b[01;34mtrain\u001b[00m\n",
      "|   |   |-- \u001b[01;34mcats\u001b[00m\n",
      "|   |   `-- \u001b[01;34mdogs\u001b[00m\n",
      "|   `-- \u001b[01;34mvalid\u001b[00m\n",
      "|       |-- \u001b[01;34mcats\u001b[00m\n",
      "|       `-- \u001b[01;34mdogs\u001b[00m\n",
      "|-- \u001b[01;34mtest\u001b[00m\n",
      "|-- \u001b[01;34mtrain\u001b[00m\n",
      "|   |-- \u001b[01;34mcats\u001b[00m\n",
      "|   `-- \u001b[01;34mdogs\u001b[00m\n",
      "`-- \u001b[01;34mvalid\u001b[00m\n",
      "    |-- \u001b[01;34mcats\u001b[00m\n",
      "    `-- \u001b[01;34mdogs\u001b[00m\n",
      "\n",
      "14 directories\n"
     ]
    }
   ],
   "source": [
    "!tree -d /home/ubuntu/data/dogscats-redux"
   ]
  },
  {
   "cell_type": "markdown",
   "metadata": {},
   "source": []
  }
 ],
 "metadata": {
  "anaconda-cloud": {},
  "kernelspec": {
   "display_name": "Python [conda root]",
   "language": "python",
   "name": "conda-root-py"
  },
  "language_info": {
   "codemirror_mode": {
    "name": "ipython",
    "version": 2
   },
   "file_extension": ".py",
   "mimetype": "text/x-python",
   "name": "python",
   "nbconvert_exporter": "python",
   "pygments_lexer": "ipython2",
   "version": "2.7.12"
  }
 },
 "nbformat": 4,
 "nbformat_minor": 1
}
